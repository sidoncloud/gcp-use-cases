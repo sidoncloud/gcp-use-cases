{
 "cells": [
  {
   "cell_type": "code",
   "execution_count": 1,
   "id": "b6e9c170-bcdb-4c43-8aec-afc75f15328f",
   "metadata": {
    "tags": []
   },
   "outputs": [
    {
     "name": "stdout",
     "output_type": "stream",
     "text": [
      "Training script copied to:\n",
      "gs://no-latency-labs-documents/aiplatform-2024-04-26-09:29:12.174-aiplatform_custom_trainer_script-0.1.tar.gz.\n",
      "Training Output directory:\n",
      "gs://no-latency-labs-documents/aiplatform-custom-training-2024-04-26-09:29:12.295 \n",
      "View Training:\n",
      "https://console.cloud.google.com/ai/platform/locations/us-central1/training/6382144964599480320?project=499192289487\n",
      "CustomTrainingJob projects/499192289487/locations/us-central1/trainingPipelines/6382144964599480320 current state:\n",
      "PipelineState.PIPELINE_STATE_RUNNING\n",
      "View backing custom job:\n",
      "https://console.cloud.google.com/ai/platform/locations/us-central1/training/5469545915498889216?project=499192289487\n",
      "CustomTrainingJob projects/499192289487/locations/us-central1/trainingPipelines/6382144964599480320 current state:\n",
      "PipelineState.PIPELINE_STATE_RUNNING\n",
      "CustomTrainingJob projects/499192289487/locations/us-central1/trainingPipelines/6382144964599480320 current state:\n",
      "PipelineState.PIPELINE_STATE_RUNNING\n",
      "CustomTrainingJob projects/499192289487/locations/us-central1/trainingPipelines/6382144964599480320 current state:\n",
      "PipelineState.PIPELINE_STATE_RUNNING\n",
      "CustomTrainingJob run completed. Resource name: projects/499192289487/locations/us-central1/trainingPipelines/6382144964599480320\n",
      "Training did not produce a Managed Model returning None. Training Pipeline projects/499192289487/locations/us-central1/trainingPipelines/6382144964599480320 is not configured to upload a Model. Create the Training Pipeline with model_serving_container_image_uri and model_display_name passed in. Ensure that your training script saves to model to os.environ['AIP_MODEL_DIR'].\n"
     ]
    }
   ],
   "source": [
    "from google.cloud import aiplatform\n",
    "\n",
    "project_id = \"no-latency-labs\"\n",
    "region = \"us-central1\"\n",
    "staging_bucket=\"gs://bucket-name\"\n",
    "\n",
    "aiplatform.init(project=project_id, location=region, staging_bucket=staging_bucket)\n",
    "\n",
    "job = aiplatform.CustomTrainingJob(\n",
    "        display_name=\"bikeshare-training-job\",\n",
    "        script_path=\"model-training-code.py\",\n",
    "        container_uri=\"us-docker.pkg.dev/vertex-ai/training/scikit-learn-cpu.0-23:latest\",\n",
    "        requirements=[\"gcsfs\"]\n",
    "    )\n",
    "\n",
    "job.run(\n",
    "    replica_count=1,\n",
    "    machine_type=\"n1-standard-4\",\n",
    "    sync=True\n",
    ")\n",
    "job.wait()"
   ]
  },
  {
   "cell_type": "code",
   "execution_count": 2,
   "id": "707e63bd-19ed-4eb6-9bee-3f2bb42a64af",
   "metadata": {
    "tags": []
   },
   "outputs": [
    {
     "name": "stdout",
     "output_type": "stream",
     "text": [
      "Creating Model\n",
      "Create Model backing LRO: projects/499192289487/locations/us-central1/models/5759700402639470592/operations/4424151700286210048\n",
      "Model created. Resource name: projects/499192289487/locations/us-central1/models/5759700402639470592@1\n",
      "To use this Model in another session:\n",
      "model = aiplatform.Model('projects/499192289487/locations/us-central1/models/5759700402639470592@1')\n"
     ]
    }
   ],
   "source": [
    "display_name = \"bikeshare-model-sdk\"\n",
    "artifact_uri = \"gs://nl-datascience/model-artifact\"\n",
    "serving_container_image_uri = \"us-docker.pkg.dev/vertex-ai/prediction/sklearn-cpu.1-0:latest\"\n",
    "\n",
    "model = aiplatform.Model.upload(\n",
    "        display_name=display_name,\n",
    "        artifact_uri=artifact_uri,\n",
    "        serving_container_image_uri=serving_container_image_uri,\n",
    "        sync=False\n",
    "    )"
   ]
  },
  {
   "cell_type": "code",
   "execution_count": 3,
   "id": "70ded5a5-fa06-4088-8123-59e203788e6b",
   "metadata": {
    "tags": []
   },
   "outputs": [
    {
     "name": "stdout",
     "output_type": "stream",
     "text": [
      "Creating Endpoint\n",
      "Create Endpoint backing LRO: projects/499192289487/locations/us-central1/endpoints/1847150947361357824/operations/1421376648736931840\n",
      "Endpoint created. Resource name: projects/499192289487/locations/us-central1/endpoints/1847150947361357824\n",
      "To use this Endpoint in another session:\n",
      "endpoint = aiplatform.Endpoint('projects/499192289487/locations/us-central1/endpoints/1847150947361357824')\n",
      "Deploying model to Endpoint : projects/499192289487/locations/us-central1/endpoints/1847150947361357824\n",
      "Deploy Endpoint model backing LRO: projects/499192289487/locations/us-central1/endpoints/1847150947361357824/operations/5834904283560017920\n",
      "Endpoint model deployed. Resource name: projects/499192289487/locations/us-central1/endpoints/1847150947361357824\n"
     ]
    }
   ],
   "source": [
    "deployed_model_display_name = \"bikeshare-model-endpoint\"\n",
    "traffic_split = {\"0\": 100}\n",
    "machine_type = \"n1-standard-4\"\n",
    "min_replica_count = 1\n",
    "max_replica_count = 1\n",
    "\n",
    "endpoint = model.deploy(\n",
    "        deployed_model_display_name=deployed_model_display_name,\n",
    "        traffic_split=traffic_split,\n",
    "        machine_type=machine_type,\n",
    "        min_replica_count=min_replica_count,\n",
    "        max_replica_count=max_replica_count\n",
    "    )"
   ]
  },
  {
   "cell_type": "code",
   "execution_count": null,
   "id": "648dd49c",
   "metadata": {},
   "outputs": [],
   "source": [
    "# endpoint = aiplatform.Endpoint('projects/{project-number}/locations/us-central1/endpoints/{endpoint-id}')"
   ]
  },
  {
   "cell_type": "code",
   "execution_count": 4,
   "id": "1e0692c6-3862-41d6-b6f9-b89d80f5c5cf",
   "metadata": {
    "tags": []
   },
   "outputs": [
    {
     "name": "stdout",
     "output_type": "stream",
     "text": [
      "Prediction(predictions=[4.329191250735414], deployed_model_id='2019651127619878912', metadata=None, model_version_id='1', model_resource_name='projects/499192289487/locations/us-central1/models/5759700402639470592', explanations=None)\n"
     ]
    }
   ],
   "source": [
    "INSTANCE = [0.24, 0.81, 0, 0, 0, 0, 0, 0, 0, 0, 0, 0, 0, 0, 0, 0, 0, 0, 0, 0, 0, 0, 0, 0, 0, 0, 0, 0, 0, 0, 0, 0, 0, 0, 0, 0, 0, 0, 0, 0, 0, 0, 0, 0, 0, 1, 0, 0, 0, 0]\n",
    "\n",
    "instances_list = [INSTANCE]\n",
    "prediction = endpoint.predict(instances_list)\n",
    "print(prediction)"
   ]
  },
  {
   "cell_type": "code",
   "execution_count": null,
   "id": "4bba5091-29be-46c8-b6b1-3b77dbf655e9",
   "metadata": {},
   "outputs": [],
   "source": [
    "gcs_input_uri = 'gs://bucket-name/input-dataset/batch-data.csv'\n",
    "\n",
    "BUCKET_URI = \"gs://bucket-name/bikeshare-batch-prediction-output\"\n",
    "\n",
    "batch_predict_job = model.batch_predict(\n",
    "    job_display_name=\"bikeshare_batch_predict\",\n",
    "    gcs_source=gcs_input_uri,\n",
    "    gcs_destination_prefix=BUCKET_URI,\n",
    "    instances_format=\"csv\",\n",
    "    predictions_format=\"jsonl\",\n",
    "    machine_type=\"n1-standard-4\",\n",
    "    starting_replica_count=1,\n",
    "    max_replica_count=1,\n",
    "    generate_explanation=True,\n",
    "    sync=False\n",
    ")"
   ]
  },
  {
   "cell_type": "code",
   "execution_count": null,
   "id": "942a53a7-ebe7-40d3-a417-acd58318e01b",
   "metadata": {},
   "outputs": [],
   "source": []
  },
  {
   "cell_type": "code",
   "execution_count": null,
   "id": "b305ba7e-f556-40ca-b063-5dee00433bf3",
   "metadata": {},
   "outputs": [],
   "source": []
  },
  {
   "cell_type": "code",
   "execution_count": null,
   "id": "2f054d92-7be7-4d85-9d3a-2ea6919dbe07",
   "metadata": {},
   "outputs": [],
   "source": []
  },
  {
   "cell_type": "code",
   "execution_count": null,
   "id": "aa5604b9-be69-40bd-8335-91b79722d526",
   "metadata": {},
   "outputs": [],
   "source": []
  }
 ],
 "metadata": {
  "environment": {
   "kernel": "python3",
   "name": "tf2-cpu.2-11.m120",
   "type": "gcloud",
   "uri": "us-docker.pkg.dev/deeplearning-platform-release/gcr.io/tf2-cpu.2-11:m120"
  },
  "kernelspec": {
   "display_name": "Python 3",
   "language": "python",
   "name": "python3"
  },
  "language_info": {
   "codemirror_mode": {
    "name": "ipython",
    "version": 3
   },
   "file_extension": ".py",
   "mimetype": "text/x-python",
   "name": "python",
   "nbconvert_exporter": "python",
   "pygments_lexer": "ipython3",
   "version": "3.10.14"
  }
 },
 "nbformat": 4,
 "nbformat_minor": 5
}
