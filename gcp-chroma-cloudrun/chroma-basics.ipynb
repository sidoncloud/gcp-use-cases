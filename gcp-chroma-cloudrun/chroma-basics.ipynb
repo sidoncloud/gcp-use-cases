{
 "cells": [
  {
   "cell_type": "code",
   "execution_count": null,
   "id": "100d1553-ff6b-4ff4-b490-3cf4843d0881",
   "metadata": {
    "tags": []
   },
   "outputs": [],
   "source": [
    "# !pip install google-cloud-aiplatform==1.46.0 \\\n",
    "# 'bigframes<1.0.0' \\\n",
    "# langchain==0.1.14 \\\n",
    "# langchain_google_vertexai==0.1.2 \\\n",
    "# chromadb==0.4.24 \\\n",
    "# unstructured==0.12.6 \\\n",
    "# pillow-heif==0.15.0 \\\n",
    "# unstructured-inference==0.7.25 \\\n",
    "# pypdf==4.1.0 \\\n",
    "# pdf2image==1.17.0 \\\n",
    "# unstructured_pytesseract==0.3.12 \\\n",
    "# pikepdf==8.14.0 \\\n",
    "# --upgrade \\\n",
    "# --user"
   ]
  },
  {
   "cell_type": "code",
   "execution_count": 4,
   "id": "5cc27199-012e-4d20-8bcf-f0d381eff862",
   "metadata": {
    "tags": []
   },
   "outputs": [],
   "source": [
    "import os\n",
    "import langchain\n",
    "from langchain.chains import create_retrieval_chain\n",
    "from langchain.chains.combine_documents import create_stuff_documents_chain\n",
    "from langchain.document_loaders import TextLoader, UnstructuredPDFLoader\n",
    "from langchain.prompts import PromptTemplate\n",
    "from langchain.text_splitter import CharacterTextSplitter\n",
    "from langchain.vectorstores.chroma import Chroma\n",
    "from langchain_google_vertexai import VertexAI, VertexAIEmbeddings\n",
    "import vertexai\n",
    "\n",
    "PROJECT_ID = \"no-latency-labs\"\n",
    "LOCATION = \"us-central1\"\n",
    "\n",
    "vertexai.init(project=PROJECT_ID, location=LOCATION)\n",
    "\n",
    "INDEX_PATH = \"./dataset/\"\n",
    "PERSIST_PATH = \"./persistentdb/\"\n",
    "\n",
    "MODEL = \"gemini-1.5-pro\"\n",
    "EMBEDDING_MODEL = \"textembedding-gecko@003\""
   ]
  },
  {
   "cell_type": "code",
   "execution_count": 5,
   "id": "a83acde8-b39a-4049-b460-aab5718c2b3d",
   "metadata": {
    "tags": []
   },
   "outputs": [],
   "source": [
    "def get_split_documents(index_path: str) -> list[str]:\n",
    "    \"\"\"\n",
    "    This function is used to chunk documents and convert them into a list.\n",
    "\n",
    "    Args:\n",
    "    index_path: Path of the dataset folder containing the documents.\n",
    "\n",
    "    Returns:\n",
    "    List of chunked, or split documents.\n",
    "    \"\"\"\n",
    "\n",
    "    split_docs = []\n",
    "\n",
    "    for file_name in os.listdir(index_path):\n",
    "        print(f\"file_name : {file_name}\")\n",
    "        if file_name.endswith(\".pdf\"):\n",
    "            loader = UnstructuredPDFLoader(index_path + file_name)\n",
    "        else:\n",
    "            loader = TextLoader(index_path + file_name)\n",
    "\n",
    "        text_splitter = CharacterTextSplitter(chunk_size=8192, chunk_overlap=128)\n",
    "        split_docs.extend(text_splitter.split_documents(loader.load()))\n",
    "\n",
    "    return split_docs\n",
    "\n",
    "EMBEDDING_NUM_BATCH = 5\n",
    "\n",
    "embeddings = VertexAIEmbeddings(\n",
    "    model_name=EMBEDDING_MODEL, batch_size=EMBEDDING_NUM_BATCH\n",
    ")"
   ]
  },
  {
   "cell_type": "code",
   "execution_count": 6,
   "id": "b2c690a5-ef07-4e9a-bb1f-b458adbfc0a2",
   "metadata": {
    "tags": []
   },
   "outputs": [
    {
     "name": "stdout",
     "output_type": "stream",
     "text": [
      "file_name : tax-guidance.pdf\n"
     ]
    }
   ],
   "source": [
    "split_docs = get_split_documents(INDEX_PATH)\n",
    "db = Chroma.from_documents(\n",
    "    documents=split_docs, embedding=embeddings, persist_directory=PERSIST_PATH\n",
    ")\n",
    "# db.persist()"
   ]
  },
  {
   "cell_type": "code",
   "execution_count": 7,
   "id": "7152404a-dec5-4410-8517-72cc8806f3dc",
   "metadata": {
    "tags": []
   },
   "outputs": [],
   "source": [
    "llm = VertexAI(\n",
    "    model=MODEL,\n",
    "    max_output_tokens=2048,\n",
    "    temperature=0.2,\n",
    "    top_p=0.8,\n",
    "    top_k=40,\n",
    "    verbose=True,\n",
    ")\n",
    "\n",
    "retriever = db.as_retriever(search_type=\"similarity\", search_kwargs={\"k\": 3})\n",
    "\n",
    "template = \"\"\"\n",
    "    You are a helpful AI assistant. You're tasked to answer the question given below, but only based on the context provided.\n",
    "    context:\n",
    "\n",
    "    {context}\n",
    "\n",
    "\n",
    "    question:\n",
    "\n",
    "    {input}\n",
    "\n",
    "\n",
    "    If you cannot find an answer ask the user to rephrase the question.\n",
    "    answer:\n",
    "\n",
    "\"\"\"\n",
    "prompt = PromptTemplate.from_template(template)"
   ]
  },
  {
   "cell_type": "code",
   "execution_count": 8,
   "id": "9ee465b3-0741-4737-afc1-7fcbd330a2d2",
   "metadata": {
    "tags": []
   },
   "outputs": [],
   "source": [
    "combine_docs_chain = create_stuff_documents_chain(llm, prompt)\n",
    "\n",
    "retrieval_chain = create_retrieval_chain(retriever, combine_docs_chain)"
   ]
  },
  {
   "cell_type": "code",
   "execution_count": 9,
   "id": "7374a22c-addb-44ff-b7d7-a7a7a12b3727",
   "metadata": {
    "tags": []
   },
   "outputs": [],
   "source": [
    "response = retrieval_chain.invoke({\"input\": \"Tell me about Figuring the EIC.\"})"
   ]
  },
  {
   "cell_type": "code",
   "execution_count": 10,
   "id": "aaacb737-0fe4-4fd8-807c-38c9f4570fde",
   "metadata": {
    "tags": []
   },
   "outputs": [
    {
     "name": "stdout",
     "output_type": "stream",
     "text": [
      "To figure out the amount of your Earned Income Credit, you have two options:\n",
      "\n",
      "1. **Let the IRS calculate it for you:** This is the simpler option. Refer to \"IRS Will Figure the EIC for You\" in Publication 596 for guidance.\n",
      "\n",
      "2. **Calculate it yourself:** If you prefer to calculate the EIC on your own,  complete the front of Schedule R (Form 1040) and then proceed to Part III of the same schedule.  \"How To Figure the EIC Yourself\" in Publication 596 will provide detailed instructions.\n",
      "\n"
     ]
    }
   ],
   "source": [
    "print(response[\"answer\"])"
   ]
  },
  {
   "cell_type": "markdown",
   "id": "61af2b69-5b34-40bf-9ecd-79541ab13695",
   "metadata": {},
   "source": [
    "<h2>Upload ChromaDb to GCS "
   ]
  },
  {
   "cell_type": "code",
   "execution_count": 13,
   "id": "bfb10fb4-ef85-4691-a133-2d4d1fc437d3",
   "metadata": {
    "tags": []
   },
   "outputs": [
    {
     "name": "stdout",
     "output_type": "stream",
     "text": [
      "Uploaded ./persistentdb/chroma.sqlite3 to gs://nl-llm/chroma/chroma.sqlite3\n",
      "Uploaded ./persistentdb/52207b07-059c-4577-8ff3-3388276bedaa/header.bin to gs://nl-llm/chroma/52207b07-059c-4577-8ff3-3388276bedaa/header.bin\n",
      "Uploaded ./persistentdb/52207b07-059c-4577-8ff3-3388276bedaa/data_level0.bin to gs://nl-llm/chroma/52207b07-059c-4577-8ff3-3388276bedaa/data_level0.bin\n",
      "Uploaded ./persistentdb/52207b07-059c-4577-8ff3-3388276bedaa/length.bin to gs://nl-llm/chroma/52207b07-059c-4577-8ff3-3388276bedaa/length.bin\n",
      "Uploaded ./persistentdb/52207b07-059c-4577-8ff3-3388276bedaa/link_lists.bin to gs://nl-llm/chroma/52207b07-059c-4577-8ff3-3388276bedaa/link_lists.bin\n"
     ]
    }
   ],
   "source": [
    "from google.cloud import storage\n",
    "import os\n",
    "\n",
    "\n",
    "BUCKET_NAME = \"nl-llm\"\n",
    "GCS_PERSIST_PATH = \"chroma/\"\n",
    "LOCAL_PERSIST_PATH = \"./persistentdb/\"\n",
    "\n",
    "# Initialize GCS client\n",
    "storage_client = storage.Client()\n",
    "\n",
    "def upload_directory_to_gcs(local_directory, bucket_name, gcs_directory):\n",
    "    \"\"\"Upload all files in a local directory to a GCS directory.\"\"\"\n",
    "    bucket = storage_client.bucket(bucket_name)\n",
    "    \n",
    "    for root, _, files in os.walk(local_directory):\n",
    "        for file_name in files:\n",
    "            local_file_path = os.path.join(root, file_name)\n",
    "            relative_path = os.path.relpath(local_file_path, local_directory)\n",
    "            blob = bucket.blob(os.path.join(gcs_directory, relative_path))\n",
    "            blob.upload_from_filename(local_file_path)\n",
    "            print(f\"Uploaded {local_file_path} to gs://{bucket_name}/{gcs_directory}{relative_path}\")\n",
    "\n",
    "# Upload Chroma persisted data to GCS bucket\n",
    "upload_directory_to_gcs(LOCAL_PERSIST_PATH, BUCKET_NAME, GCS_PERSIST_PATH)"
   ]
  }
 ],
 "metadata": {
  "environment": {
   "kernel": "python3",
   "name": "common-cpu.m125",
   "type": "gcloud",
   "uri": "us-docker.pkg.dev/deeplearning-platform-release/gcr.io/base-cpu:m125"
  },
  "kernelspec": {
   "display_name": "Python 3 (Local)",
   "language": "python",
   "name": "python3"
  },
  "language_info": {
   "codemirror_mode": {
    "name": "ipython",
    "version": 3
   },
   "file_extension": ".py",
   "mimetype": "text/x-python",
   "name": "python",
   "nbconvert_exporter": "python",
   "pygments_lexer": "ipython3",
   "version": "3.10.15"
  }
 },
 "nbformat": 4,
 "nbformat_minor": 5
}
