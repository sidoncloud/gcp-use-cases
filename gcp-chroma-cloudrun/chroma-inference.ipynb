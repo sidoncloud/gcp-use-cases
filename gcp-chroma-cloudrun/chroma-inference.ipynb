{
 "cells": [
  {
   "cell_type": "code",
   "execution_count": 1,
   "id": "d9c3a307-dcb8-4eea-b0f8-a684e6b0bf20",
   "metadata": {
    "tags": []
   },
   "outputs": [
    {
     "name": "stdout",
     "output_type": "stream",
     "text": [
      "Downloaded chroma/52207b07-059c-4577-8ff3-3388276bedaa/data_level0.bin to ./local_chromadb/52207b07-059c-4577-8ff3-3388276bedaa/data_level0.bin\n",
      "Downloaded chroma/52207b07-059c-4577-8ff3-3388276bedaa/header.bin to ./local_chromadb/52207b07-059c-4577-8ff3-3388276bedaa/header.bin\n",
      "Downloaded chroma/52207b07-059c-4577-8ff3-3388276bedaa/length.bin to ./local_chromadb/52207b07-059c-4577-8ff3-3388276bedaa/length.bin\n",
      "Downloaded chroma/52207b07-059c-4577-8ff3-3388276bedaa/link_lists.bin to ./local_chromadb/52207b07-059c-4577-8ff3-3388276bedaa/link_lists.bin\n",
      "Downloaded chroma/chroma.sqlite3 to ./local_chromadb/chroma.sqlite3\n"
     ]
    }
   ],
   "source": [
    "from google.cloud import storage\n",
    "import os\n",
    "from langchain.vectorstores.chroma import Chroma\n",
    "from langchain_google_vertexai import VertexAI, VertexAIEmbeddings\n",
    "from langchain.prompts import PromptTemplate\n",
    "from langchain.chains.combine_documents import create_stuff_documents_chain\n",
    "from langchain.chains import create_retrieval_chain\n",
    "\n",
    "BUCKET_NAME = \"nl-llm\"\n",
    "GCS_PERSIST_PATH = \"chroma/\"\n",
    "LOCAL_PERSIST_PATH = \"./local_chromadb/\"\n",
    "\n",
    "# Initialize GCS client\n",
    "storage_client = storage.Client()\n",
    "\n",
    "def download_directory_from_gcs(gcs_directory, local_directory, bucket_name):\n",
    "    \"\"\"Download all files from a GCS directory to a local directory.\"\"\"\n",
    "    bucket = storage_client.bucket(bucket_name)\n",
    "    blobs = bucket.list_blobs(prefix=gcs_directory)\n",
    "\n",
    "    for blob in blobs:\n",
    "        if not blob.name.endswith(\"/\"):  # Avoid directory blobs\n",
    "            relative_path = os.path.relpath(blob.name, gcs_directory)\n",
    "            local_file_path = os.path.join(local_directory, relative_path)\n",
    "            os.makedirs(os.path.dirname(local_file_path), exist_ok=True)\n",
    "            blob.download_to_filename(local_file_path)\n",
    "            print(f\"Downloaded {blob.name} to {local_file_path}\")\n",
    "\n",
    "# Download Chroma persisted data from GCS to local directory\n",
    "download_directory_from_gcs(GCS_PERSIST_PATH, LOCAL_PERSIST_PATH, BUCKET_NAME)\n",
    "\n",
    "# Step to use the data locally in retrieval\n",
    "EMBEDDING_MODEL = \"textembedding-gecko@003\"\n",
    "EMBEDDING_NUM_BATCH = 5\n",
    "\n",
    "# Load embeddings and persisted data\n",
    "embeddings = VertexAIEmbeddings(\n",
    "    model_name=EMBEDDING_MODEL, batch_size=EMBEDDING_NUM_BATCH\n",
    ")\n",
    "\n",
    "# Load Chroma data from local persisted directory\n",
    "db = Chroma(persist_directory=LOCAL_PERSIST_PATH,embedding_function=embeddings)\n",
    "\n",
    "# Now use db for retrieval\n",
    "retriever = db.as_retriever(search_type=\"similarity\", search_kwargs={\"k\": 3})"
   ]
  },
  {
   "cell_type": "code",
   "execution_count": 2,
   "id": "0940c628-93b8-4d81-a42e-abed1605b351",
   "metadata": {
    "tags": []
   },
   "outputs": [],
   "source": [
    "template = \"\"\"\n",
    "    You are a helpful AI assistant. You're tasked to answer the question given below, but only based on the context provided.\n",
    "    context:\n",
    "\n",
    "    {context}\n",
    "\n",
    "\n",
    "    question:\n",
    "\n",
    "    {input}\n",
    "\n",
    "\n",
    "    If you cannot find an answer ask the user to rephrase the question.\n",
    "    answer:\n",
    "\"\"\"\n",
    "prompt = PromptTemplate.from_template(template)\n",
    "\n",
    "llm = VertexAI(\n",
    "    model=\"gemini-1.5-pro\",\n",
    "    max_output_tokens=2048,\n",
    "    temperature=0.2,\n",
    "    top_p=0.8,\n",
    "    top_k=40,\n",
    "    verbose=True,\n",
    ")\n",
    "\n",
    "# Recreate the retrieval and combine docs chain\n",
    "combine_docs_chain = create_stuff_documents_chain(llm, prompt)\n",
    "retrieval_chain = create_retrieval_chain(retriever, combine_docs_chain)\n",
    "\n",
    "# Example query\n",
    "response = retrieval_chain.invoke({\"input\": \"Tell me about Figuring the EIC.\"})"
   ]
  },
  {
   "cell_type": "code",
   "execution_count": 3,
   "id": "1bca5713-277c-427e-8916-1616a2fa34fc",
   "metadata": {
    "tags": []
   },
   "outputs": [
    {
     "data": {
      "text/plain": [
       "'To figure out the amount of your Earned Income Credit, you have two options:\\n\\n1. **Let the IRS calculate it for you:** This is the simpler option. Refer to \"IRS Will Figure the EIC for You\" in Publication 596 for guidance.\\n\\n2. **Calculate it yourself:** If you prefer to calculate the EIC on your own,  complete the front of Schedule R (Form 1040) and then proceed to Part III of the same form.  \"How To Figure the EIC Yourself\" in Publication 596 will provide detailed instructions. \\n'"
      ]
     },
     "execution_count": 3,
     "metadata": {},
     "output_type": "execute_result"
    }
   ],
   "source": [
    "response[\"answer\"]"
   ]
  }
 ],
 "metadata": {
  "environment": {
   "kernel": "python3",
   "name": "common-cpu.m125",
   "type": "gcloud",
   "uri": "us-docker.pkg.dev/deeplearning-platform-release/gcr.io/base-cpu:m125"
  },
  "kernelspec": {
   "display_name": "Python 3 (Local)",
   "language": "python",
   "name": "python3"
  },
  "language_info": {
   "codemirror_mode": {
    "name": "ipython",
    "version": 3
   },
   "file_extension": ".py",
   "mimetype": "text/x-python",
   "name": "python",
   "nbconvert_exporter": "python",
   "pygments_lexer": "ipython3",
   "version": "3.10.15"
  }
 },
 "nbformat": 4,
 "nbformat_minor": 5
}
