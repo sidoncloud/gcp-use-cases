{
 "cells": [
  {
   "cell_type": "code",
   "execution_count": 7,
   "id": "5ab2716d-cade-4656-9966-d784e79c810e",
   "metadata": {},
   "outputs": [],
   "source": [
    "from langchain_community.vectorstores import BigQueryVectorSearch\n",
    "from langchain_google_vertexai import VertexAIEmbeddings\n",
    "from langchain_google_vertexai import VertexAI\n",
    "from langchain.chains import RetrievalQA\n",
    "from langchain.chains import ConversationalRetrievalChain\n",
    "from langchain.memory import ConversationBufferMemory\n",
    "from langchain.chat_models import ChatOpenAI\n",
    "import pandas as pd \n",
    "import os\n",
    "\n",
    "api_key = \"your-api-key\"\n",
    "os.environ['GOOGLE_APPLICATION_CREDENTIALS'] = 'filename.json'\n",
    "\n",
    "DATASET = \"bq_vectordb\"\n",
    "TABLE = \"bq_vectors\"\n",
    "PROJECT_ID = \"project-id\"\n",
    "\n",
    "embedding = VertexAIEmbeddings(\n",
    "    model_name=\"textembedding-gecko@latest\", project=PROJECT_ID\n",
    ")\n",
    "\n",
    "memory = ConversationBufferMemory(memory_key=\"chat_history\", return_messages=True,output_key='answer')\n",
    "\n",
    "bq_object = BigQueryVectorSearch(\n",
    "    project_id=PROJECT_ID,\n",
    "    dataset_name=DATASET,\n",
    "    table_name=TABLE,\n",
    "    location=\"US\",\n",
    "    embedding=embedding,\n",
    ")"
   ]
  },
  {
   "cell_type": "code",
   "execution_count": 8,
   "id": "f77e7629-48ad-4f39-ac95-71afb0420499",
   "metadata": {},
   "outputs": [],
   "source": [
    "llm_openai = ChatOpenAI(model=\"gpt-4-turbo-2024-04-09\",api_key=api_key)\n",
    "retriever = bq_object.as_retriever()\n",
    "\n",
    "conversational_retrieval = ConversationalRetrievalChain.from_llm(\n",
    "    llm=llm_openai,retriever=retriever, memory=memory,verbose=False\n",
    ")"
   ]
  },
  {
   "cell_type": "code",
   "execution_count": 9,
   "id": "9b4b6137-09d9-45eb-8cee-3487dc525f3b",
   "metadata": {},
   "outputs": [],
   "source": [
    "def QaWithMemory(query):\n",
    "    return conversational_retrieval.invoke(query)[\"answer\"]"
   ]
  },
  {
   "cell_type": "code",
   "execution_count": 15,
   "id": "9bd2ea8c-b82d-4b9e-a5e0-b2fef453714c",
   "metadata": {},
   "outputs": [
    {
     "name": "stdout",
     "output_type": "stream",
     "text": [
      "Between 2010 and 2021, the total number of AI research publications more than doubled, growing from 200,000 in 2010 to almost 500,000 in 2021. The category of publications that experienced the most significant increase during this period was repository submissions, which grew 26.6 times.\n"
     ]
    }
   ],
   "source": [
    "query = \"\"\"\n",
    "        What was the rate of growth in AI research publications from 2010 to 2021,\n",
    "        and which type of AI publication saw the most significant increase in this period?\n",
    "        \"\"\"\n",
    "answer = QaWithMemory(query)\n",
    "\n",
    "print(answer)"
   ]
  },
  {
   "cell_type": "code",
   "execution_count": 16,
   "id": "9f3fac70-0826-4950-9ea5-39867db78e5e",
   "metadata": {},
   "outputs": [
    {
     "name": "stdout",
     "output_type": "stream",
     "text": [
      "The significant growth in AI research publications from 2010 to 2021, as detailed in the AI Index Report 2023, suggests a few potential impacts on future AI research priorities:\n",
      "\n",
      "1. **Focus on Emerging Subfields**: Given the sharp increase in publications in areas like pattern recognition and machine learning, future research might prioritize these subfields even more, possibly leading to new breakthroughs and applications. The growth in these areas indicates strong interest and perceived value, likely attracting further investments and talent.\n",
      "\n",
      "2. **Increased Interdisciplinary Collaboration**: The diverse range of AI fields such as computer vision, data mining, and natural language processing, coupled with growth in cross-industry collaborations, suggests that future AI research might increasingly involve interdisciplinary and cross-sectoral efforts. This could lead to more comprehensive solutions that integrate AI with other fields of study.\n",
      "\n",
      "3. **Shift in Publication Mediums**: With shifts in the types of publications—such as the growth in journal and repository publications and the decline in conference papers—future research might adapt to these changing dynamics. Researchers might prioritize open-access repositories and journals over traditional conference presentations, influencing how findings are disseminated and collaborated upon.\n",
      "\n",
      "4. **Regional and Global Implications**: The expansion of AI research publications worldwide might encourage a more global perspective in AI development, addressing regional needs and challenges. This could lead to a more balanced approach in tackling global issues such as health, climate change, and automation.\n",
      "\n",
      "5. **Policy and Ethical Considerations**: As AI research continues to grow, so too will the discussions around the ethical, legal, and social implications of AI. Future research priorities will likely need to include significant considerations of these aspects to ensure responsible and equitable AI development.\n",
      "\n",
      "Overall, the growth in AI research publications not only reflects the field's expansion but also shapes future research directions, potentially leading to more specialized, collaborative, and ethically focused AI initiatives.\n"
     ]
    }
   ],
   "source": [
    "followup_query = \"\"\"\n",
    "             and how might this growth impact the future of AI research priorities?\n",
    "                \"\"\"\n",
    "\n",
    "answer = QaWithMemory(followup_query)\n",
    "\n",
    "print(answer)"
   ]
  },
  {
   "cell_type": "code",
   "execution_count": 13,
   "id": "138ba9a9-d781-45c6-9487-784940321506",
   "metadata": {},
   "outputs": [
    {
     "name": "stdout",
     "output_type": "stream",
     "text": [
      "In 2022, 54% of the large language and multimodal models produced globally originated from American institutions.\n"
     ]
    }
   ],
   "source": [
    "query = \"\"\"What percentage of the world's large language and multimodal models in 2022 were produced by American institutions?\"\"\"\n",
    "answer = QaWithMemory(query)\n",
    "\n",
    "print(answer)"
   ]
  }
 ],
 "metadata": {
  "kernelspec": {
   "display_name": "Python 3 (ipykernel)",
   "language": "python",
   "name": "python3"
  },
  "language_info": {
   "codemirror_mode": {
    "name": "ipython",
    "version": 3
   },
   "file_extension": ".py",
   "mimetype": "text/x-python",
   "name": "python",
   "nbconvert_exporter": "python",
   "pygments_lexer": "ipython3",
   "version": "3.11.6"
  }
 },
 "nbformat": 4,
 "nbformat_minor": 5
}
